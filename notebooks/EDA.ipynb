{
 "cells": [
  {
   "cell_type": "code",
   "execution_count": 3,
   "metadata": {},
   "outputs": [],
   "source": [
    "# import pandas as pd \n",
    "# import plotly.express as px \n",
    "\n",
    "# # Load the dataset\n",
    "# df = pd.read_csv('vehicles_us.csv')\n",
    "\n",
    "# # Display basic information about the dataset\n",
    "# df.info()\n",
    "\n",
    "# # Create histograms\n",
    "# fig = px.histogram(df, x='price')\n",
    "# fig.show()\n",
    "\n",
    "# # Create scatter plots\n",
    "# fig = px.scatter(df, x='year', y='price', color='model')\n",
    "# fig.show()"
   ]
  }
 ],
 "metadata": {
  "kernelspec": {
   "display_name": "Python 3",
   "language": "python",
   "name": "python3"
  },
  "language_info": {
   "codemirror_mode": {
    "name": "ipython",
    "version": 3
   },
   "file_extension": ".py",
   "mimetype": "text/x-python",
   "name": "python",
   "nbconvert_exporter": "python",
   "pygments_lexer": "ipython3",
   "version": "3.12.4"
  }
 },
 "nbformat": 4,
 "nbformat_minor": 2
}
